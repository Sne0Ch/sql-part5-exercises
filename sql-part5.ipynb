{
    "metadata": {
        "kernelspec": {
            "name": "SQL",
            "display_name": "SQL",
            "language": "sql"
        },
        "language_info": {
            "name": "sql",
            "version": ""
        }
    },
    "nbformat_minor": 2,
    "nbformat": 4,
    "cells": [
        {
            "cell_type": "markdown",
            "source": [
                "# Exercises: Creating, Updating, and Destroying Objects\n",
                "\n",
                "For the exercises, you will be working with objects and data you create. Before opening this notebook, make sure that you have set up the new connection to the server and that you have located the database and your schema.\n",
                "\n",
                "## Object Creation\n",
                "\n",
                "Before coding, think of three things you want to make. These could be coding projects, new recipes, or planned projects for a woodworking hobby. Brainstorm the appropriate column names and data types as well.\n",
                "\n",
                "Create a table under your schema called `planned_makes`."
            ],
            "metadata": {
                "azdata_cell_guid": "9d51c166-0c19-4f27-a422-2a6cf596bfb2"
            },
            "attachments": {}
        },
        {
            "cell_type": "code",
            "source": [
                "CREATE TABLE JunkDB_STL_May2023.snigda.planned_makes (\r\n",
                "    Recipe_ID Int PRIMARY KEY,\r\n",
                "    recipe_title NVARCHAR(500),\r\n",
                "    recipe_description NVARCHAR(700),\r\n",
                "    );"
            ],
            "metadata": {
                "azdata_cell_guid": "d9238911-6f81-4f01-980d-b584307effaf",
                "language": "sql"
            },
            "outputs": [
                {
                    "output_type": "error",
                    "evalue": "Msg 2714, Level 16, State 6, Line 1\r\nThere is already an object named 'planned_makes' in the database.",
                    "ename": "",
                    "traceback": []
                },
                {
                    "output_type": "display_data",
                    "data": {
                        "text/html": "Total execution time: 00:00:00.040"
                    },
                    "metadata": {}
                }
            ],
            "execution_count": 34
        },
        {
            "cell_type": "code",
            "source": [
                "SELECT * FROM snigda.planned_makes"
            ],
            "metadata": {
                "azdata_cell_guid": "5dca941f-c60a-4595-b879-8845691f1fa3",
                "language": "sql"
            },
            "outputs": [
                {
                    "output_type": "display_data",
                    "data": {
                        "text/html": "(0 rows affected)"
                    },
                    "metadata": {}
                },
                {
                    "output_type": "display_data",
                    "data": {
                        "text/html": "Total execution time: 00:00:00.038"
                    },
                    "metadata": {}
                },
                {
                    "output_type": "execute_result",
                    "metadata": {},
                    "execution_count": 35,
                    "data": {
                        "application/vnd.dataresource+json": {
                            "schema": {
                                "fields": [
                                    {
                                        "name": "Recipe_ID"
                                    },
                                    {
                                        "name": "recipe_title"
                                    },
                                    {
                                        "name": "recipe_description"
                                    }
                                ]
                            },
                            "data": []
                        },
                        "text/html": [
                            "<table>",
                            "<tr><th>Recipe_ID</th><th>recipe_title</th><th>recipe_description</th></tr>",
                            "</table>"
                        ]
                    }
                }
            ],
            "execution_count": 35
        },
        {
            "cell_type": "markdown",
            "source": [
                "Add three rows to your table that are your planned makes."
            ],
            "metadata": {
                "azdata_cell_guid": "83cdf34d-8c4f-4fa1-a14e-77384b19d734"
            }
        },
        {
            "cell_type": "code",
            "source": [
                "INSERT INTO snigda.planned_makes (Recipe_ID, recipe_title, recipe_description)\r\n",
                "VALUES (1, 'Spicy Fish', 'Marinate Fish and Grill'),\r\n",
                "(2, 'Crepes', 'Mix pancake flour with milk, egg and vanilla to thin consitency. Pour in pan on medium high heat'),\r\n",
                "(3, 'Egg Roll', 'Beat Eggs add salt and milk. Pour oil on pan and pour eggs on pan. \r\n",
                "Remove before fully cooked completely and roll eggs.')\r\n",
                ""
            ],
            "metadata": {
                "azdata_cell_guid": "e7cff9cb-87ba-4c7b-98f2-eaf445e8719c",
                "language": "sql",
                "tags": []
            },
            "outputs": [
                {
                    "output_type": "display_data",
                    "data": {
                        "text/html": "(3 rows affected)"
                    },
                    "metadata": {}
                },
                {
                    "output_type": "display_data",
                    "data": {
                        "text/html": "Total execution time: 00:00:00.064"
                    },
                    "metadata": {}
                }
            ],
            "execution_count": 42
        },
        {
            "cell_type": "code",
            "source": [
                "SELECT * FROM snigda.planned_makes\r\n",
                ""
            ],
            "metadata": {
                "language": "sql",
                "azdata_cell_guid": "9da46477-fa03-42a4-a276-c1fdabf5c031"
            },
            "outputs": [
                {
                    "output_type": "display_data",
                    "data": {
                        "text/html": "(3 rows affected)"
                    },
                    "metadata": {}
                },
                {
                    "output_type": "display_data",
                    "data": {
                        "text/html": "Total execution time: 00:00:00.060"
                    },
                    "metadata": {}
                },
                {
                    "output_type": "execute_result",
                    "metadata": {},
                    "execution_count": 44,
                    "data": {
                        "application/vnd.dataresource+json": {
                            "schema": {
                                "fields": [
                                    {
                                        "name": "Recipe_ID"
                                    },
                                    {
                                        "name": "recipe_title"
                                    },
                                    {
                                        "name": "recipe_description"
                                    }
                                ]
                            },
                            "data": [
                                {
                                    "Recipe_ID": "1",
                                    "recipe_title": "Spicy Fish",
                                    "recipe_description": "Marinate Fish and Grill"
                                },
                                {
                                    "Recipe_ID": "2",
                                    "recipe_title": "Crepes",
                                    "recipe_description": "Mix pancake flour with milk, egg and vanilla to thin consitency. Pour in pan on medium high heat"
                                },
                                {
                                    "Recipe_ID": "3",
                                    "recipe_title": "Egg Roll",
                                    "recipe_description": "Beat Eggs add salt and milk. Pour oil on pan and pour eggs on pan. \r\nRemove before fully cooked completely and roll eggs."
                                }
                            ]
                        },
                        "text/html": [
                            "<table>",
                            "<tr><th>Recipe_ID</th><th>recipe_title</th><th>recipe_description</th></tr>",
                            "<tr><td>1</td><td>Spicy Fish</td><td>Marinate Fish and Grill</td></tr>",
                            "<tr><td>2</td><td>Crepes</td><td>Mix pancake flour with milk, egg and vanilla to thin consitency. Pour in pan on medium high heat</td></tr>",
                            "<tr><td>3</td><td>Egg Roll</td><td>Beat Eggs add salt and milk. Pour oil on pan and pour eggs on pan. \r\nRemove before fully cooked completely and roll eggs.</td></tr>",
                            "</table>"
                        ]
                    }
                }
            ],
            "execution_count": 44
        },
        {
            "cell_type": "markdown",
            "source": [
                "## Update a Row\n",
                "\n",
                "Change different values in one of your three rows."
            ],
            "metadata": {
                "azdata_cell_guid": "4a39b8d4-ae97-4e09-8336-c5fc6a00d76c"
            },
            "attachments": {}
        },
        {
            "cell_type": "code",
            "source": [
                "UPDATE snigda.planned_makes\r\n",
                "SET recipe_title = 'French Crepes'\r\n",
                "WHERE Recipe_ID = 2"
            ],
            "metadata": {
                "azdata_cell_guid": "7409c695-9581-4ad8-b03a-574d2c4c87cb",
                "language": "sql"
            },
            "outputs": [
                {
                    "output_type": "display_data",
                    "data": {
                        "text/html": "(1 row affected)"
                    },
                    "metadata": {}
                },
                {
                    "output_type": "display_data",
                    "data": {
                        "text/html": "Total execution time: 00:00:00.049"
                    },
                    "metadata": {}
                }
            ],
            "execution_count": 45
        },
        {
            "cell_type": "code",
            "source": [
                "SELECT * FROM snigda.planned_makes "
            ],
            "metadata": {
                "language": "sql",
                "azdata_cell_guid": "ea164739-4c23-478d-8fac-6eb85a0010fe"
            },
            "outputs": [
                {
                    "output_type": "display_data",
                    "data": {
                        "text/html": "(3 rows affected)"
                    },
                    "metadata": {}
                },
                {
                    "output_type": "display_data",
                    "data": {
                        "text/html": "Total execution time: 00:00:00.073"
                    },
                    "metadata": {}
                },
                {
                    "output_type": "execute_result",
                    "metadata": {},
                    "execution_count": 46,
                    "data": {
                        "application/vnd.dataresource+json": {
                            "schema": {
                                "fields": [
                                    {
                                        "name": "Recipe_ID"
                                    },
                                    {
                                        "name": "recipe_title"
                                    },
                                    {
                                        "name": "recipe_description"
                                    }
                                ]
                            },
                            "data": [
                                {
                                    "Recipe_ID": "1",
                                    "recipe_title": "Spicy Fish",
                                    "recipe_description": "Marinate Fish and Grill"
                                },
                                {
                                    "Recipe_ID": "2",
                                    "recipe_title": "French Crepes",
                                    "recipe_description": "Mix pancake flour with milk, egg and vanilla to thin consitency. Pour in pan on medium high heat"
                                },
                                {
                                    "Recipe_ID": "3",
                                    "recipe_title": "Egg Roll",
                                    "recipe_description": "Beat Eggs add salt and milk. Pour oil on pan and pour eggs on pan. \r\nRemove before fully cooked completely and roll eggs."
                                }
                            ]
                        },
                        "text/html": [
                            "<table>",
                            "<tr><th>Recipe_ID</th><th>recipe_title</th><th>recipe_description</th></tr>",
                            "<tr><td>1</td><td>Spicy Fish</td><td>Marinate Fish and Grill</td></tr>",
                            "<tr><td>2</td><td>French Crepes</td><td>Mix pancake flour with milk, egg and vanilla to thin consitency. Pour in pan on medium high heat</td></tr>",
                            "<tr><td>3</td><td>Egg Roll</td><td>Beat Eggs add salt and milk. Pour oil on pan and pour eggs on pan. \r\nRemove before fully cooked completely and roll eggs.</td></tr>",
                            "</table>"
                        ]
                    }
                }
            ],
            "execution_count": 46
        },
        {
            "cell_type": "markdown",
            "source": [
                "## Delete a Row\n",
                "\n",
                "Delete one of the rows from your table."
            ],
            "metadata": {
                "azdata_cell_guid": "95e91a6e-9038-42d9-9401-5738842aba17"
            }
        },
        {
            "cell_type": "code",
            "source": [
                "DELETE FROM snigda.planned_makes\r\n",
                "WHERE Recipe_ID = 3"
            ],
            "metadata": {
                "azdata_cell_guid": "749c748f-19b5-4c69-9004-b6b20216616a",
                "language": "sql"
            },
            "outputs": [
                {
                    "output_type": "display_data",
                    "data": {
                        "text/html": "(1 row affected)"
                    },
                    "metadata": {}
                },
                {
                    "output_type": "display_data",
                    "data": {
                        "text/html": "Total execution time: 00:00:00.053"
                    },
                    "metadata": {}
                }
            ],
            "execution_count": 47
        },
        {
            "cell_type": "code",
            "source": [
                "SELECT * FROM snigda.planned_makes"
            ],
            "metadata": {
                "language": "sql",
                "azdata_cell_guid": "c54f86e6-1e8c-44a7-9c59-8526c00d8d08"
            },
            "outputs": [
                {
                    "output_type": "display_data",
                    "data": {
                        "text/html": "(2 rows affected)"
                    },
                    "metadata": {}
                },
                {
                    "output_type": "display_data",
                    "data": {
                        "text/html": "Total execution time: 00:00:00.091"
                    },
                    "metadata": {}
                },
                {
                    "output_type": "execute_result",
                    "metadata": {},
                    "execution_count": 48,
                    "data": {
                        "application/vnd.dataresource+json": {
                            "schema": {
                                "fields": [
                                    {
                                        "name": "Recipe_ID"
                                    },
                                    {
                                        "name": "recipe_title"
                                    },
                                    {
                                        "name": "recipe_description"
                                    }
                                ]
                            },
                            "data": [
                                {
                                    "Recipe_ID": "1",
                                    "recipe_title": "Spicy Fish",
                                    "recipe_description": "Marinate Fish and Grill"
                                },
                                {
                                    "Recipe_ID": "2",
                                    "recipe_title": "French Crepes",
                                    "recipe_description": "Mix pancake flour with milk, egg and vanilla to thin consitency. Pour in pan on medium high heat"
                                }
                            ]
                        },
                        "text/html": [
                            "<table>",
                            "<tr><th>Recipe_ID</th><th>recipe_title</th><th>recipe_description</th></tr>",
                            "<tr><td>1</td><td>Spicy Fish</td><td>Marinate Fish and Grill</td></tr>",
                            "<tr><td>2</td><td>French Crepes</td><td>Mix pancake flour with milk, egg and vanilla to thin consitency. Pour in pan on medium high heat</td></tr>",
                            "</table>"
                        ]
                    }
                }
            ],
            "execution_count": 48
        },
        {
            "cell_type": "markdown",
            "source": [
                "## Drop the Table\n",
                "\n",
                "While this has been fun, it is time to drop the table!"
            ],
            "metadata": {
                "azdata_cell_guid": "2239cb09-137b-4579-905b-1aa020793181"
            },
            "attachments": {}
        },
        {
            "cell_type": "code",
            "source": [
                "DROP table snigda.planned_makes"
            ],
            "metadata": {
                "azdata_cell_guid": "b3c7f6ea-ee26-46b3-9c2a-2f7a82c39699",
                "language": "sql"
            },
            "outputs": [
                {
                    "output_type": "display_data",
                    "data": {
                        "text/html": "Commands completed successfully."
                    },
                    "metadata": {}
                },
                {
                    "output_type": "display_data",
                    "data": {
                        "text/html": "Total execution time: 00:00:00.055"
                    },
                    "metadata": {}
                }
            ],
            "execution_count": 49
        }
    ]
}